{
 "cells": [
  {
   "cell_type": "code",
   "execution_count": 1,
   "id": "bf388eec-963a-4a9c-869e-e7ae321ad124",
   "metadata": {},
   "outputs": [
    {
     "data": {
      "text/plain": [
       "array([[16, 83, 23],\n",
       "       [84, 44,  6],\n",
       "       [33, 39, 57],\n",
       "       [66, 91, 98],\n",
       "       [54, 50, 19],\n",
       "       [ 5, 43, 20],\n",
       "       [57, 58, 11],\n",
       "       [62, 20, 68],\n",
       "       [29, 59, 30],\n",
       "       [94, 16, 70]], dtype=int32)"
      ]
     },
     "metadata": {},
     "output_type": "display_data"
    }
   ],
   "source": [
    "import numpy as np\n",
    "from IPython.display import display\n",
    "\n",
    "my_array = np.random.randint(0, 100, size=(10, 3))\n",
    "display(my_array)\n"
   ]
  },
  {
   "cell_type": "code",
   "execution_count": null,
   "id": "40f734a5-c2c2-4f58-b872-0d04f62f87a7",
   "metadata": {},
   "outputs": [],
   "source": []
  }
 ],
 "metadata": {
  "kernelspec": {
   "display_name": "Python 3 (ipykernel)",
   "language": "python",
   "name": "python3"
  },
  "language_info": {
   "codemirror_mode": {
    "name": "ipython",
    "version": 3
   },
   "file_extension": ".py",
   "mimetype": "text/x-python",
   "name": "python",
   "nbconvert_exporter": "python",
   "pygments_lexer": "ipython3",
   "version": "3.9.21"
  }
 },
 "nbformat": 4,
 "nbformat_minor": 5
}
